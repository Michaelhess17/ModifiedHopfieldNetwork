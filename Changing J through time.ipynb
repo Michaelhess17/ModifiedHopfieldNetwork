{
 "cells": [
  {
   "cell_type": "code",
   "execution_count": 76,
   "metadata": {},
   "outputs": [],
   "source": [
    "import numpy as np\n",
    "import pylab as pl\n",
    "import scipy as sp\n",
    "import scipy.io as spio\n",
    "# import tensorflow.contrib.layers as layers\n",
    "import matplotlib.pyplot as plt\n",
    "from sklearn.feature_selection import mutual_info_regression\n",
    "from scipy.sparse import csr_matrix, save_npz, load_npz\n",
    "paths = ['20190429_35797_rat_stim_baseline', '20190429_35797_rat_stim_baseline_carbachol','20190429_35797_rat_stim_1elec_1st','20190429_35797_rat_stim_2elec_1st','20190429_35797_rat_stim_1elec_2nd']\n",
    "# paths = ['Expt1.mat']\n",
    "def load_and_save_data(file):\n",
    "\n",
    "    dat = spio.loadmat(file)\n",
    "\n",
    "    Cs = dat['data']['Cs']\n",
    "    Ts = dat['data']['Ts']\n",
    "    Cs = np.array([a[0] for a in Cs.tolist()[0][0].tolist()], dtype='uint8')\n",
    "    Ts = np.array([a[0] for a in Ts.tolist()[0][0].tolist()], dtype='uint32')\n",
    "\n",
    "    dt = .1 # can change this\n",
    "    Tmax = np.max(Ts)\n",
    "\n",
    "    foo_x = np.asarray([int(i/0.1) for i in Ts])\n",
    " \n",
    "    ys = []\n",
    "    for i in range(int(Tmax/dt)):\n",
    "        # is the stimulus firing\n",
    "        if i in foo_x:\n",
    "            # which neurons are firing\n",
    "            inds = (i*dt<Ts)*(Ts<(i+1)*dt)\n",
    "            neurons = Cs[inds]\n",
    "            foo2 = np.zeros(60); foo2[neurons] = 1\n",
    "            ys.append(foo2)\n",
    "        else:\n",
    "            ys.append(np.zeros(60))\n",
    "            \n",
    "    ys = np.asarray(ys, dtype='uint8').squeeze()\n",
    "    filename = file + '_sparse.npz'\n",
    "    y_sparse = csr_matrix(ys, dtype='uint8')\n",
    "    save_npz(filename, y_sparse)"
   ]
  },
  {
   "cell_type": "code",
   "execution_count": null,
   "metadata": {},
   "outputs": [],
   "source": []
  },
  {
   "cell_type": "code",
   "execution_count": null,
   "metadata": {},
   "outputs": [],
   "source": [
    "%%time\n",
    "y = load_and_save_data(paths[0])"
   ]
  },
  {
   "cell_type": "code",
   "execution_count": null,
   "metadata": {},
   "outputs": [],
   "source": [
    "y"
   ]
  },
  {
   "cell_type": "code",
   "execution_count": 22,
   "metadata": {},
   "outputs": [],
   "source": []
  }
 ],
 "metadata": {
  "kernelspec": {
   "display_name": "Python 3",
   "language": "python",
   "name": "python3"
  },
  "language_info": {
   "codemirror_mode": {
    "name": "ipython",
    "version": 3
   },
   "file_extension": ".py",
   "mimetype": "text/x-python",
   "name": "python",
   "nbconvert_exporter": "python",
   "pygments_lexer": "ipython3",
   "version": "3.7.3"
  }
 },
 "nbformat": 4,
 "nbformat_minor": 2
}
